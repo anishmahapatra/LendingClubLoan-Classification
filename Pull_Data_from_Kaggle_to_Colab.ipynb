{
  "nbformat": 4,
  "nbformat_minor": 0,
  "metadata": {
    "colab": {
      "name": "Pull Data from Kaggle to Colab",
      "provenance": [],
      "collapsed_sections": [],
      "authorship_tag": "ABX9TyPizJgmqIn+x/L1v82wHh6L",
      "include_colab_link": true
    },
    "kernelspec": {
      "name": "python3",
      "display_name": "Python 3"
    },
    "language_info": {
      "name": "python"
    }
  },
  "cells": [
    {
      "cell_type": "markdown",
      "metadata": {
        "id": "view-in-github",
        "colab_type": "text"
      },
      "source": [
        "<a href=\"https://colab.research.google.com/github/anishmahapatra/LendingClubLoan-Classification/blob/main/Pull_Data_from_Kaggle_to_Colab.ipynb\" target=\"_parent\"><img src=\"https://colab.research.google.com/assets/colab-badge.svg\" alt=\"Open In Colab\"/></a>"
      ]
    },
    {
      "cell_type": "code",
      "metadata": {
        "colab": {
          "base_uri": "https://localhost:8080/"
        },
        "id": "UgxkM4Q7DdJR",
        "outputId": "2d70d114-9394-4a0a-fee4-f88016abd760"
      },
      "source": [
        "from google.colab import drive\n",
        "drive.mount('/content/gdrive')\n",
        "# reference (https://medium.com/analytics-vidhya/how-to-fetch-kaggle-datasets-into-google-colab-ea682569851a)"
      ],
      "execution_count": 29,
      "outputs": [
        {
          "output_type": "stream",
          "text": [
            "Drive already mounted at /content/gdrive; to attempt to forcibly remount, call drive.mount(\"/content/gdrive\", force_remount=True).\n"
          ],
          "name": "stdout"
        }
      ]
    },
    {
      "cell_type": "code",
      "metadata": {
        "id": "ceMpEBdVDwxq"
      },
      "source": [
        "import os\n",
        "os.environ['KAGGLE_CONFIG_DIR'] = \"/content/gdrive/My Drive/Kaggle\"\n",
        "# /content/gdrive/My Drive/Kaggle is the path where kaggle.json is present in the Google Drive"
      ],
      "execution_count": 2,
      "outputs": []
    },
    {
      "cell_type": "code",
      "metadata": {
        "colab": {
          "base_uri": "https://localhost:8080/"
        },
        "id": "UBr9qxCGDwsr",
        "outputId": "8042ce7b-3603-41bb-9582-ab5c95529991"
      },
      "source": [
        "#changing the working directory\n",
        "%cd /content/gdrive/My Drive/Kaggle\n",
        "#Check the present working directory using pwd command"
      ],
      "execution_count": 3,
      "outputs": [
        {
          "output_type": "stream",
          "text": [
            "/content/gdrive/My Drive/Kaggle\n"
          ],
          "name": "stdout"
        }
      ]
    },
    {
      "cell_type": "code",
      "metadata": {
        "colab": {
          "base_uri": "https://localhost:8080/"
        },
        "id": "bBovfTW0DwgN",
        "outputId": "51e7dcc5-9e61-4a84-e7d4-636d357366be"
      },
      "source": [
        "!kaggle datasets download -d wordsforthewise/lending-club"
      ],
      "execution_count": 4,
      "outputs": [
        {
          "output_type": "stream",
          "text": [
            "Downloading lending-club.zip to /content/gdrive/My Drive/Kaggle\n",
            " 99% 1.25G/1.26G [00:15<00:00, 115MB/s]\n",
            "100% 1.26G/1.26G [00:15<00:00, 87.5MB/s]\n"
          ],
          "name": "stdout"
        }
      ]
    },
    {
      "cell_type": "code",
      "metadata": {
        "colab": {
          "base_uri": "https://localhost:8080/"
        },
        "id": "wOle7ugeELRI",
        "outputId": "48bafa28-114f-47ab-fdc3-a9675e349f7d"
      },
      "source": [
        "#unzipping the zip files and deleting the zip files\n",
        "!unzip \\*.zip  && rm *.zip"
      ],
      "execution_count": 5,
      "outputs": [
        {
          "output_type": "stream",
          "text": [
            "Archive:  lending-club.zip\n",
            "  inflating: accepted_2007_to_2018Q4.csv.gz  \n",
            "  inflating: accepted_2007_to_2018q4.csv/accepted_2007_to_2018Q4.csv  \n",
            "  inflating: rejected_2007_to_2018Q4.csv.gz  \n",
            "  inflating: rejected_2007_to_2018q4.csv/rejected_2007_to_2018Q4.csv  \n"
          ],
          "name": "stdout"
        }
      ]
    },
    {
      "cell_type": "code",
      "metadata": {
        "colab": {
          "base_uri": "https://localhost:8080/"
        },
        "id": "bVs4aQanELLh",
        "outputId": "90a443ff-e298-4f48-9f8e-afbe594cb910"
      },
      "source": [
        "# Removing .gz files as well\n",
        "!rm *.gz"
      ],
      "execution_count": 8,
      "outputs": [
        {
          "output_type": "stream",
          "text": [
            "rm: cannot remove '*.gz': No such file or directory\n"
          ],
          "name": "stdout"
        }
      ]
    },
    {
      "cell_type": "code",
      "metadata": {
        "id": "a_CJG1bfEK0G"
      },
      "source": [
        "import re\n",
        "import os\n",
        "\n",
        "import pandas as pd\n",
        "import numpy as np\n",
        "import seaborn as sns\n",
        "import matplotlib.pyplot as plt\n",
        "\n",
        "pd.set_option('display.max_rows', 500) #adjust display options\n",
        "pd.set_option('display.max_columns', 500)\n",
        "\n",
        "# \"magic\" command to make plots show up in the notebook\n",
        "%matplotlib inline \n",
        "\n",
        "filepath = '/content/gdrive/My Drive/Kaggle/'"
      ],
      "execution_count": 18,
      "outputs": []
    },
    {
      "cell_type": "code",
      "metadata": {
        "colab": {
          "base_uri": "https://localhost:8080/"
        },
        "id": "0RAxnSOPFxzv",
        "outputId": "14d86fee-78a5-47ac-dcec-998bfee744b7"
      },
      "source": [
        "folders = os.listdir(filepath)\n",
        "# Skip .xslx file, if we are ever able to upload it...\n",
        "# Currently can't upload due to conflicts with other versions of the dataset on Kaggle.\n",
        "folders = [f for f in folders if 'xlsx' not in f]\n",
        "folders"
      ],
      "execution_count": 19,
      "outputs": [
        {
          "output_type": "execute_result",
          "data": {
            "text/plain": [
              "['kaggle.json', 'accepted_2007_to_2018q4.csv', 'rejected_2007_to_2018q4.csv']"
            ]
          },
          "metadata": {
            "tags": []
          },
          "execution_count": 19
        }
      ]
    },
    {
      "cell_type": "code",
      "metadata": {
        "colab": {
          "base_uri": "https://localhost:8080/",
          "height": 35
        },
        "id": "gij7ddLIIZ6u",
        "outputId": "a7cff60a-61a1-4987-949c-a2687fa310a7"
      },
      "source": [
        "folders.pop(0)"
      ],
      "execution_count": 23,
      "outputs": [
        {
          "output_type": "execute_result",
          "data": {
            "application/vnd.google.colaboratory.intrinsic+json": {
              "type": "string"
            },
            "text/plain": [
              "'kaggle.json'"
            ]
          },
          "metadata": {
            "tags": []
          },
          "execution_count": 23
        }
      ]
    },
    {
      "cell_type": "code",
      "metadata": {
        "colab": {
          "base_uri": "https://localhost:8080/"
        },
        "id": "VNnjNTGqFyYH",
        "outputId": "3bf02566-3df8-4f16-fdc7-28bd33ad3062"
      },
      "source": [
        "os.listdir(filepath + folders[1])\n",
        "# os.listdir(filepath + folders[2])"
      ],
      "execution_count": 21,
      "outputs": [
        {
          "output_type": "execute_result",
          "data": {
            "text/plain": [
              "['rejected_2007_to_2018Q4.csv']"
            ]
          },
          "metadata": {
            "tags": []
          },
          "execution_count": 21
        }
      ]
    },
    {
      "cell_type": "code",
      "metadata": {
        "colab": {
          "base_uri": "https://localhost:8080/",
          "height": 35
        },
        "id": "dXIFjGBMFy7f",
        "outputId": "4bcefb75-104a-4931-f981-24e07bfac0d6"
      },
      "source": [
        "acc_folder = filepath + [f for f in folders if 'accepted' in f][0]\n",
        "accepted_fn = acc_folder + '/' + os.listdir(acc_folder)[0]\n",
        "\n",
        "rej_folder = filepath + [f for f in folders if 'rejected' in f][0]\n",
        "rejected_fn = rej_folder + '/' + os.listdir(rej_folder)[0]\n",
        "\n",
        "accepted_fn"
      ],
      "execution_count": 24,
      "outputs": [
        {
          "output_type": "execute_result",
          "data": {
            "application/vnd.google.colaboratory.intrinsic+json": {
              "type": "string"
            },
            "text/plain": [
              "'/content/gdrive/My Drive/Kaggle/accepted_2007_to_2018q4.csv/accepted_2007_to_2018Q4.csv'"
            ]
          },
          "metadata": {
            "tags": []
          },
          "execution_count": 24
        }
      ]
    },
    {
      "cell_type": "code",
      "metadata": {
        "colab": {
          "base_uri": "https://localhost:8080/"
        },
        "id": "mpu5f3ehFzFh",
        "outputId": "1a2cf54f-c3b5-45f4-9896-e8fe377a2620"
      },
      "source": [
        "if os.path.isfile(accepted_fn) and os.path.isfile(rejected_fn):\n",
        "    print('both paths still point to the actual file; all is good')\n",
        "else:\n",
        "    print('Colab has changed')"
      ],
      "execution_count": 25,
      "outputs": [
        {
          "output_type": "stream",
          "text": [
            "both paths still point to the actual file; all is good\n"
          ],
          "name": "stdout"
        }
      ]
    },
    {
      "cell_type": "code",
      "metadata": {
        "colab": {
          "base_uri": "https://localhost:8080/"
        },
        "id": "YikMQZLRFzM_",
        "outputId": "0f8ea3ec-7063-40d9-c41e-eb6f2ce27e4f"
      },
      "source": [
        "# Takes a while to read, because these files are large...give it a minute or so\n",
        "acc_df = pd.read_csv(accepted_fn)\n",
        "\n",
        "# this is a dataset with rejected loans from lendingclub\n",
        "rej_df = pd.read_csv(rejected_fn)"
      ],
      "execution_count": 26,
      "outputs": [
        {
          "output_type": "stream",
          "text": [
            "/usr/local/lib/python3.7/dist-packages/IPython/core/interactiveshell.py:2718: DtypeWarning: Columns (0,19,49,59,118,129,130,131,134,135,136,139,145,146,147) have mixed types.Specify dtype option on import or set low_memory=False.\n",
            "  interactivity=interactivity, compiler=compiler, result=result)\n"
          ],
          "name": "stderr"
        }
      ]
    },
    {
      "cell_type": "code",
      "metadata": {
        "colab": {
          "base_uri": "https://localhost:8080/"
        },
        "id": "y3-d-PQvFzSy",
        "outputId": "f92b0314-b7a0-4b94-e382-801bd62ee60f"
      },
      "source": [
        "# this is how we can see how many entries are in the dataframe (df)\n",
        "# it also works for numpy arrays\n",
        "acc_df.shape"
      ],
      "execution_count": 27,
      "outputs": [
        {
          "output_type": "execute_result",
          "data": {
            "text/plain": [
              "(2260701, 151)"
            ]
          },
          "metadata": {
            "tags": []
          },
          "execution_count": 27
        }
      ]
    },
    {
      "cell_type": "code",
      "metadata": {
        "colab": {
          "base_uri": "https://localhost:8080/"
        },
        "id": "yf8Ail8oFzYt",
        "outputId": "dd91e236-5360-478e-ccf0-a41a28cd12f9"
      },
      "source": [
        "rej_df.shape"
      ],
      "execution_count": 28,
      "outputs": [
        {
          "output_type": "execute_result",
          "data": {
            "text/plain": [
              "(27648741, 9)"
            ]
          },
          "metadata": {
            "tags": []
          },
          "execution_count": 28
        }
      ]
    },
    {
      "cell_type": "code",
      "metadata": {
        "id": "LKd354ayJin7"
      },
      "source": [
        ""
      ],
      "execution_count": null,
      "outputs": []
    }
  ]
}