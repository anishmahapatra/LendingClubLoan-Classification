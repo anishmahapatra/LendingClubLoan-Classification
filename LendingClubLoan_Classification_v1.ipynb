{
  "nbformat": 4,
  "nbformat_minor": 0,
  "metadata": {
    "colab": {
      "name": "LendingClubLoan-Classification-v1.ipynb",
      "provenance": [],
      "collapsed_sections": [],
      "authorship_tag": "ABX9TyOgQcPiDPdIOeiD22LfcM+g",
      "include_colab_link": true
    },
    "kernelspec": {
      "name": "python3",
      "display_name": "Python 3"
    },
    "language_info": {
      "name": "python"
    }
  },
  "cells": [
    {
      "cell_type": "markdown",
      "metadata": {
        "id": "view-in-github",
        "colab_type": "text"
      },
      "source": [
        "<a href=\"https://colab.research.google.com/github/anishmahapatra/LendingClubLoan-Classification/blob/main/LendingClubLoan_Classification_v1.ipynb\" target=\"_parent\"><img src=\"https://colab.research.google.com/assets/colab-badge.svg\" alt=\"Open In Colab\"/></a>"
      ]
    },
    {
      "cell_type": "markdown",
      "metadata": {
        "id": "AnWYXDr2Lt58"
      },
      "source": [
        "# Sampling, Visualization, Modelling - Classification: Lending Club Loan Dataset\n",
        "\n",
        "*Date: 27th March, 2020 <br/>\n",
        "Author: AM, PQ* \n",
        "\n",
        "Welcome to this Collaboratory Notebook. We shall use this notebook to the Fundamentals of the Modelling process. Remember, the best way to learn Data Science is to simply <b>do it.</b> Crack your fingers, it's going to be a fun notebook. \n",
        "\n",
        "<b>Aim:</b> <br/>The purpose of this notebook is to analyze, sample, visualize and model (classification) [Lending Club Loan Dataset](https://www.kaggle.com/wordsforthewise/lending-club).\n",
        "\n",
        "The Lending Club Dataset has been pulled from the LendingClub Website. The level of the Data is at a <b>Customer Id</b> Level.\n",
        "\n"
      ]
    },
    {
      "cell_type": "markdown",
      "metadata": {
        "id": "qi40-LJqNkjj"
      },
      "source": [
        "<a name=\"0\"></a>\n",
        "## Table of Contents\n",
        "\n",
        "1 [Loading the Data](#1) <br/>\n",
        "2 [Sampling the LendingClub Data](#2) <br/>\n",
        "3 [Feature Selection](#3) <br/>\n",
        "4 [Pre-processing & Visualization](#4) <br/>\n",
        "5 [Modelling](#5) <br/>\n",
        "&nbsp;&nbsp;&nbsp;&nbsp;&nbsp;&nbsp;5.1 [Level-1: Classification Models: LR, KNN, RF, DT, XGB](#5.1) <br/>\n",
        "&nbsp;&nbsp;&nbsp;&nbsp;&nbsp;&nbsp;5.2 [Level-2: Hyperparameter Tuning - GridSearch & its variants](#5.1) <br/>\n",
        "&nbsp;&nbsp;&nbsp;&nbsp;&nbsp;&nbsp;5.3 [Level-3: Auto ML - PyCaret](#5.3) <br/>\n",
        "6 [Interpretable Models: SHAP](#6) <br/>\n",
        "7 [MLflow](#7) <br/>\n",
        "\n"
      ]
    },
    {
      "cell_type": "markdown",
      "metadata": {
        "id": "Gcug0KPFPSi3"
      },
      "source": [
        "<a name=\"1\"></a>\n",
        "## 1 Loading the Data\n",
        "Back to [Table of Contents](#0)\n",
        "\n",
        "---\n"
      ]
    },
    {
      "cell_type": "code",
      "metadata": {
        "colab": {
          "base_uri": "https://localhost:8080/"
        },
        "id": "fX9mqDydQkeJ",
        "outputId": "10b74391-5e1c-4a6b-d152-ceee88b1f008"
      },
      "source": [
        "from google.colab import drive\n",
        "drive.mount('/content/gdrive')\n",
        "# reference (https://medium.com/analytics-vidhya/how-to-fetch-kaggle-datasets-into-google-colab-ea682569851a)"
      ],
      "execution_count": 1,
      "outputs": [
        {
          "output_type": "stream",
          "text": [
            "Drive already mounted at /content/gdrive; to attempt to forcibly remount, call drive.mount(\"/content/gdrive\", force_remount=True).\n"
          ],
          "name": "stdout"
        }
      ]
    },
    {
      "cell_type": "code",
      "metadata": {
        "id": "67vINYr3QkYv"
      },
      "source": [
        "import os\n",
        "os.environ['KAGGLE_CONFIG_DIR'] = \"/content/gdrive/My Drive/Kaggle\"\n",
        "# /content/gdrive/My Drive/Kaggle is the path where kaggle.json is present in the Google Drive"
      ],
      "execution_count": 2,
      "outputs": []
    },
    {
      "cell_type": "code",
      "metadata": {
        "colab": {
          "base_uri": "https://localhost:8080/"
        },
        "id": "QzXFfeoTQkV-",
        "outputId": "904155bb-5808-49e8-f419-b7fd73beb06f"
      },
      "source": [
        "#changing the working directory\n",
        "%cd /content/gdrive/My Drive/Kaggle\n",
        "#Check the present working directory using pwd command"
      ],
      "execution_count": 3,
      "outputs": [
        {
          "output_type": "stream",
          "text": [
            "/content/gdrive/My Drive/Kaggle\n"
          ],
          "name": "stdout"
        }
      ]
    },
    {
      "cell_type": "code",
      "metadata": {
        "id": "CrA3VN7WQkTn"
      },
      "source": [
        "import re\n",
        "import os\n",
        "\n",
        "import pandas as pd\n",
        "import numpy as np\n",
        "import seaborn as sns\n",
        "import matplotlib.pyplot as plt\n",
        "\n",
        "pd.set_option('display.max_rows', 500) #adjust display options\n",
        "pd.set_option('display.max_columns', 500)\n",
        "\n",
        "# \"magic\" command to make plots show up in the notebook\n",
        "%matplotlib inline \n",
        "\n",
        "filepath = '/content/gdrive/My Drive/Kaggle/'"
      ],
      "execution_count": 4,
      "outputs": []
    },
    {
      "cell_type": "code",
      "metadata": {
        "colab": {
          "base_uri": "https://localhost:8080/"
        },
        "id": "b4UFxYaqQkNy",
        "outputId": "536565d4-594b-4bf0-cd09-9f02327e8e82"
      },
      "source": [
        "folders = os.listdir(filepath)\n",
        "# Skip .xslx file, if we are ever able to upload it...\n",
        "# Currently can't upload due to conflicts with other versions of the dataset on Kaggle.\n",
        "folders = [f for f in folders if 'xlsx' not in f]\n",
        "folders"
      ],
      "execution_count": 5,
      "outputs": [
        {
          "output_type": "execute_result",
          "data": {
            "text/plain": [
              "['kaggle.json', 'accepted_2007_to_2018q4.csv', 'rejected_2007_to_2018q4.csv']"
            ]
          },
          "metadata": {
            "tags": []
          },
          "execution_count": 5
        }
      ]
    },
    {
      "cell_type": "code",
      "metadata": {
        "colab": {
          "base_uri": "https://localhost:8080/",
          "height": 35
        },
        "id": "wK2UG9d1QxND",
        "outputId": "ce11f655-5429-4797-b119-eba00e8dd69d"
      },
      "source": [
        "folders.pop(0)"
      ],
      "execution_count": 6,
      "outputs": [
        {
          "output_type": "execute_result",
          "data": {
            "application/vnd.google.colaboratory.intrinsic+json": {
              "type": "string"
            },
            "text/plain": [
              "'kaggle.json'"
            ]
          },
          "metadata": {
            "tags": []
          },
          "execution_count": 6
        }
      ]
    },
    {
      "cell_type": "code",
      "metadata": {
        "colab": {
          "base_uri": "https://localhost:8080/",
          "height": 35
        },
        "id": "zKoZHBBLQxJi",
        "outputId": "6dcd92b8-1657-4571-c67c-27c881e65a9c"
      },
      "source": [
        "acc_folder = filepath + [f for f in folders if 'accepted' in f][0]\n",
        "accepted_fn = acc_folder + '/' + os.listdir(acc_folder)[0]\n",
        "\n",
        "rej_folder = filepath + [f for f in folders if 'rejected' in f][0]\n",
        "rejected_fn = rej_folder + '/' + os.listdir(rej_folder)[0]\n",
        "\n",
        "accepted_fn"
      ],
      "execution_count": 7,
      "outputs": [
        {
          "output_type": "execute_result",
          "data": {
            "application/vnd.google.colaboratory.intrinsic+json": {
              "type": "string"
            },
            "text/plain": [
              "'/content/gdrive/My Drive/Kaggle/accepted_2007_to_2018q4.csv/accepted_2007_to_2018Q4.csv'"
            ]
          },
          "metadata": {
            "tags": []
          },
          "execution_count": 7
        }
      ]
    },
    {
      "cell_type": "code",
      "metadata": {
        "colab": {
          "base_uri": "https://localhost:8080/"
        },
        "id": "ltEagapGQxEW",
        "outputId": "bc19f2e3-cc88-4830-8846-711849eeb64f"
      },
      "source": [
        "if os.path.isfile(accepted_fn) and os.path.isfile(rejected_fn):\n",
        "    print('Correct, you got it right!')\n",
        "else:\n",
        "    print('Incorrect, Try again!')"
      ],
      "execution_count": 8,
      "outputs": [
        {
          "output_type": "stream",
          "text": [
            "Correct, you got it right!\n"
          ],
          "name": "stdout"
        }
      ]
    },
    {
      "cell_type": "code",
      "metadata": {
        "colab": {
          "base_uri": "https://localhost:8080/"
        },
        "id": "QzAZ5L4iQ12F",
        "outputId": "017706e6-9c7c-4423-ff03-92e124c31a16"
      },
      "source": [
        "# Takes a while to read, because these files are large...give it a minute or so\n",
        "acc_df = pd.read_csv(accepted_fn)\n",
        "\n",
        "# this is a dataset with rejected loans from lendingclub\n",
        "rej_df = pd.read_csv(rejected_fn)"
      ],
      "execution_count": 9,
      "outputs": [
        {
          "output_type": "stream",
          "text": [
            "/usr/local/lib/python3.7/dist-packages/IPython/core/interactiveshell.py:2718: DtypeWarning: Columns (0,19,49,59,118,129,130,131,134,135,136,139,145,146,147) have mixed types.Specify dtype option on import or set low_memory=False.\n",
            "  interactivity=interactivity, compiler=compiler, result=result)\n"
          ],
          "name": "stderr"
        }
      ]
    },
    {
      "cell_type": "code",
      "metadata": {
        "colab": {
          "base_uri": "https://localhost:8080/"
        },
        "id": "3f86LJQeQ8zp",
        "outputId": "a51d7ccc-1763-4aea-96ba-66bef7b38d80"
      },
      "source": [
        "# this is how we can see how many entries are in the dataframe (df)\n",
        "# it also works for numpy arrays\n",
        "acc_df.shape"
      ],
      "execution_count": 10,
      "outputs": [
        {
          "output_type": "execute_result",
          "data": {
            "text/plain": [
              "(2260701, 151)"
            ]
          },
          "metadata": {
            "tags": []
          },
          "execution_count": 10
        }
      ]
    },
    {
      "cell_type": "code",
      "metadata": {
        "colab": {
          "base_uri": "https://localhost:8080/"
        },
        "id": "sFTZznr4Q8ik",
        "outputId": "0a6bed7a-07ad-4e22-9900-d170d9b4c12a"
      },
      "source": [
        "rej_df.shape"
      ],
      "execution_count": 11,
      "outputs": [
        {
          "output_type": "execute_result",
          "data": {
            "text/plain": [
              "(27648741, 9)"
            ]
          },
          "metadata": {
            "tags": []
          },
          "execution_count": 11
        }
      ]
    },
    {
      "cell_type": "markdown",
      "metadata": {
        "id": "IcJ-6EoYPdzT"
      },
      "source": [
        "<a name=\"2\"></a>\n",
        "## 2 Sampling the LendingClub Data\n",
        "Back to [Table of Contents](#0)\n",
        "\n",
        "---\n"
      ]
    },
    {
      "cell_type": "markdown",
      "metadata": {
        "id": "QRPSMwNBPitb"
      },
      "source": [
        "<a name=\"3\"></a>\n",
        "## 3 Feature Selection\n",
        "Back to [Table of Contents](#0)\n",
        "\n",
        "---\n"
      ]
    },
    {
      "cell_type": "markdown",
      "metadata": {
        "id": "qnAnWp7wPoRP"
      },
      "source": [
        "<a name=\"4\"></a>\n",
        "## 4 Pre-processing & Visualization \n",
        "Back to [Table of Contents](#0)\n",
        "\n",
        "---\n"
      ]
    },
    {
      "cell_type": "markdown",
      "metadata": {
        "id": "YyrUDs7pPwX7"
      },
      "source": [
        "<a name=\"5\"></a>\n",
        "## 5 Modelling\n",
        "Back to [Table of Contents](#0)\n",
        "\n",
        "---\n"
      ]
    },
    {
      "cell_type": "markdown",
      "metadata": {
        "id": "Glk6wTUIP7MF"
      },
      "source": [
        "<a name=\"5.1\"></a>\n",
        "### 5.1 Level-1: Classification Models: LR, KNN, RF, DT, XGB\n",
        "Back to [Table of Contents](#0)"
      ]
    },
    {
      "cell_type": "markdown",
      "metadata": {
        "id": "8PyDbawFQDci"
      },
      "source": [
        "<a name=\"5.2\"></a>\n",
        "### 5.2 Level-2: Hyperparameter Tuning - GridSearch & its variants\n",
        "Back to [Table of Contents](#0)"
      ]
    },
    {
      "cell_type": "markdown",
      "metadata": {
        "id": "if0rFMVoQIcX"
      },
      "source": [
        "<a name=\"5.3\"></a>\n",
        "### 5.3 Level-3: Auto ML - PyCaret\n",
        "Back to [Table of Contents](#0)"
      ]
    },
    {
      "cell_type": "markdown",
      "metadata": {
        "id": "x2pAXc70QYqL"
      },
      "source": [
        "<a name=\"6\"></a>\n",
        "## 6 Interpretable Models: SHAP\n",
        "Back to [Table of Contents](#0)\n",
        "\n",
        "---\n"
      ]
    },
    {
      "cell_type": "markdown",
      "metadata": {
        "id": "s7CZNiHvQe0R"
      },
      "source": [
        "<a name=\"7\"></a>\n",
        "## 7 MLflow \n",
        "Back to [Table of Contents](#0)\n",
        "\n",
        "---\n"
      ]
    },
    {
      "cell_type": "code",
      "metadata": {
        "id": "f5p84gDQPdOZ"
      },
      "source": [
        ""
      ],
      "execution_count": 11,
      "outputs": []
    }
  ]
}